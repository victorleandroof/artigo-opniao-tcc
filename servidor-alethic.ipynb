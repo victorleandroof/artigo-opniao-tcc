{
 "cells": [
  {
   "cell_type": "code",
   "execution_count": 100,
   "metadata": {},
   "outputs": [],
   "source": [
    "#!flask/bin/python\n",
    "from flask import Flask, jsonify, abort, make_response, request,render_template\n",
    "import pickle\n",
    "import json\n",
    "import os"
   ]
  },
  {
   "cell_type": "code",
   "execution_count": 101,
   "metadata": {},
   "outputs": [],
   "source": [
    "f = open('classifier.pickle', 'rb')\n",
    "classifier = pickle.load(f)\n",
    "f.close()"
   ]
  },
  {
   "cell_type": "code",
   "execution_count": 102,
   "metadata": {},
   "outputs": [],
   "source": [
    "f = open('vetoriza.pickle', 'rb')\n",
    "vetoriza = pickle.load(f)\n",
    "f.close()"
   ]
  },
  {
   "cell_type": "code",
   "execution_count": 103,
   "metadata": {},
   "outputs": [],
   "source": [
    "def predicao(texto):\n",
    "    vetor = []\n",
    "    vetor.append(texto)\n",
    "    vetorizacao = vetoriza.transform(vetor)\n",
    "    resultado = classifier.predict(vetorizacao)[0]\n",
    "    return resultado"
   ]
  },
  {
   "cell_type": "code",
   "execution_count": 132,
   "metadata": {},
   "outputs": [],
   "source": [
    "app = Flask(__name__)"
   ]
  },
  {
   "cell_type": "code",
   "execution_count": 133,
   "metadata": {},
   "outputs": [],
   "source": [
    "@app.errorhandler(404)\n",
    "def not_found(error):\n",
    "    return make_response(jsonify({'error': 'Not found'}), 404)"
   ]
  },
  {
   "cell_type": "code",
   "execution_count": 134,
   "metadata": {},
   "outputs": [],
   "source": [
    "@app.errorhandler(400)\n",
    "def not_found(error):\n",
    "    return make_response(jsonify({'error': 'bad request'}), 400)"
   ]
  },
  {
   "cell_type": "code",
   "execution_count": 135,
   "metadata": {},
   "outputs": [],
   "source": [
    "@app.errorhandler(500)\n",
    "def not_found(error):\n",
    "    return make_response(jsonify({'error': 'internal server erro'}), 500)"
   ]
  },
  {
   "cell_type": "code",
   "execution_count": 136,
   "metadata": {},
   "outputs": [],
   "source": [
    "@app.route('/alethic/api/v1.0/ia', methods=['POST'])\n",
    "def get_result():\n",
    "    if not request.json or not 'texto' in request.json:\n",
    "        abort(400)\n",
    "    texto = request.json['texto']\n",
    "    frases = texto.split('. ')\n",
    "    vetor_resp = []\n",
    "    for frase in frases:\n",
    "        vetor_resp.append({'frase':frase,'resultado':predicao(texto)})\n",
    "    respostas = {\n",
    "        'respostas':vetor_resp\n",
    "    }\n",
    "    json_string = json.dumps(vetor_resp,ensure_ascii = False)\n",
    "    response = make_response(json_string)\n",
    "    response.headers['Content-Type'] = 'application/json; charset=utf-8'     \n",
    "    return response"
   ]
  },
  {
   "cell_type": "code",
   "execution_count": 137,
   "metadata": {},
   "outputs": [],
   "source": [
    "@app.route('/')\n",
    "def render_static():\n",
    "    return render_template('index.html')"
   ]
  },
  {
   "cell_type": "code",
   "execution_count": null,
   "metadata": {},
   "outputs": [
    {
     "name": "stdout",
     "output_type": "stream",
     "text": [
      " * Serving Flask app \"__main__\" (lazy loading)\n",
      " * Environment: production\n",
      "   WARNING: This is a development server. Do not use it in a production deployment.\n",
      "   Use a production WSGI server instead.\n",
      " * Debug mode: off\n"
     ]
    },
    {
     "name": "stderr",
     "output_type": "stream",
     "text": [
      " * Running on http://0.0.0.0:5000/ (Press CTRL+C to quit)\n",
      "127.0.0.1 - - [05/Dec/2019 19:26:13] \"\u001b[37mGET / HTTP/1.1\u001b[0m\" 200 -\n",
      "127.0.0.1 - - [05/Dec/2019 19:26:16] \"\u001b[37mPOST /alethic/api/v1.0/ia HTTP/1.1\u001b[0m\" 200 -\n",
      "127.0.0.1 - - [05/Dec/2019 19:38:28] \"\u001b[37mPOST /alethic/api/v1.0/ia HTTP/1.1\u001b[0m\" 200 -\n",
      "127.0.0.1 - - [05/Dec/2019 19:38:41] \"\u001b[37mGET / HTTP/1.1\u001b[0m\" 200 -\n",
      "127.0.0.1 - - [05/Dec/2019 19:38:43] \"\u001b[37mPOST /alethic/api/v1.0/ia HTTP/1.1\u001b[0m\" 200 -\n",
      "127.0.0.1 - - [05/Dec/2019 19:39:09] \"\u001b[37mGET / HTTP/1.1\u001b[0m\" 200 -\n",
      "127.0.0.1 - - [05/Dec/2019 19:39:12] \"\u001b[37mPOST /alethic/api/v1.0/ia HTTP/1.1\u001b[0m\" 200 -\n",
      "127.0.0.1 - - [05/Dec/2019 20:01:23] \"\u001b[37mGET / HTTP/1.1\u001b[0m\" 200 -\n",
      "127.0.0.1 - - [05/Dec/2019 20:01:27] \"\u001b[37mPOST /alethic/api/v1.0/ia HTTP/1.1\u001b[0m\" 200 -\n",
      "127.0.0.1 - - [05/Dec/2019 20:16:33] \"\u001b[37mGET / HTTP/1.1\u001b[0m\" 200 -\n",
      "127.0.0.1 - - [05/Dec/2019 20:17:32] \"\u001b[37mPOST /alethic/api/v1.0/ia HTTP/1.1\u001b[0m\" 200 -\n",
      "127.0.0.1 - - [05/Dec/2019 20:17:40] \"\u001b[37mGET / HTTP/1.1\u001b[0m\" 200 -\n",
      "127.0.0.1 - - [05/Dec/2019 20:17:43] \"\u001b[37mPOST /alethic/api/v1.0/ia HTTP/1.1\u001b[0m\" 200 -\n",
      "127.0.0.1 - - [05/Dec/2019 20:18:08] \"\u001b[37mGET / HTTP/1.1\u001b[0m\" 200 -\n",
      "127.0.0.1 - - [05/Dec/2019 20:18:11] \"\u001b[37mPOST /alethic/api/v1.0/ia HTTP/1.1\u001b[0m\" 200 -\n",
      "127.0.0.1 - - [05/Dec/2019 20:26:33] \"\u001b[37mGET / HTTP/1.1\u001b[0m\" 200 -\n",
      "127.0.0.1 - - [05/Dec/2019 20:26:35] \"\u001b[37mGET / HTTP/1.1\u001b[0m\" 200 -\n",
      "127.0.0.1 - - [05/Dec/2019 20:26:36] \"\u001b[37mGET / HTTP/1.1\u001b[0m\" 200 -\n",
      "127.0.0.1 - - [05/Dec/2019 20:44:37] \"\u001b[37mPOST /alethic/api/v1.0/ia HTTP/1.1\u001b[0m\" 200 -\n",
      "127.0.0.1 - - [05/Dec/2019 20:44:41] \"\u001b[37mGET / HTTP/1.1\u001b[0m\" 200 -\n",
      "127.0.0.1 - - [05/Dec/2019 20:44:54] \"\u001b[37mPOST /alethic/api/v1.0/ia HTTP/1.1\u001b[0m\" 200 -\n",
      "127.0.0.1 - - [05/Dec/2019 20:49:59] \"\u001b[37mGET / HTTP/1.1\u001b[0m\" 200 -\n",
      "127.0.0.1 - - [05/Dec/2019 20:50:19] \"\u001b[37mPOST /alethic/api/v1.0/ia HTTP/1.1\u001b[0m\" 200 -\n",
      "127.0.0.1 - - [05/Dec/2019 20:50:47] \"\u001b[37mGET / HTTP/1.1\u001b[0m\" 200 -\n",
      "127.0.0.1 - - [05/Dec/2019 20:50:50] \"\u001b[37mPOST /alethic/api/v1.0/ia HTTP/1.1\u001b[0m\" 200 -\n",
      "127.0.0.1 - - [05/Dec/2019 20:52:40] \"\u001b[37mGET / HTTP/1.1\u001b[0m\" 200 -\n",
      "127.0.0.1 - - [05/Dec/2019 20:57:07] \"\u001b[37mPOST /alethic/api/v1.0/ia HTTP/1.1\u001b[0m\" 200 -\n",
      "127.0.0.1 - - [05/Dec/2019 20:57:11] \"\u001b[37mGET / HTTP/1.1\u001b[0m\" 200 -\n",
      "127.0.0.1 - - [05/Dec/2019 20:57:23] \"\u001b[37mPOST /alethic/api/v1.0/ia HTTP/1.1\u001b[0m\" 200 -\n",
      "127.0.0.1 - - [05/Dec/2019 21:03:18] \"\u001b[37mGET / HTTP/1.1\u001b[0m\" 200 -\n",
      "127.0.0.1 - - [05/Dec/2019 21:03:31] \"\u001b[37mPOST /alethic/api/v1.0/ia HTTP/1.1\u001b[0m\" 200 -\n",
      "127.0.0.1 - - [05/Dec/2019 21:09:02] \"\u001b[37mPOST /alethic/api/v1.0/ia HTTP/1.1\u001b[0m\" 200 -\n",
      "127.0.0.1 - - [05/Dec/2019 21:09:07] \"\u001b[37mGET / HTTP/1.1\u001b[0m\" 200 -\n",
      "127.0.0.1 - - [05/Dec/2019 21:09:11] \"\u001b[37mPOST /alethic/api/v1.0/ia HTTP/1.1\u001b[0m\" 200 -\n",
      "127.0.0.1 - - [05/Dec/2019 21:10:05] \"\u001b[37mGET / HTTP/1.1\u001b[0m\" 200 -\n",
      "127.0.0.1 - - [05/Dec/2019 21:11:10] \"\u001b[37mGET / HTTP/1.1\u001b[0m\" 200 -\n",
      "127.0.0.1 - - [05/Dec/2019 21:11:15] \"\u001b[37mPOST /alethic/api/v1.0/ia HTTP/1.1\u001b[0m\" 200 -\n",
      "127.0.0.1 - - [05/Dec/2019 21:13:47] \"\u001b[37mGET / HTTP/1.1\u001b[0m\" 200 -\n",
      "127.0.0.1 - - [05/Dec/2019 21:13:50] \"\u001b[37mPOST /alethic/api/v1.0/ia HTTP/1.1\u001b[0m\" 200 -\n",
      "127.0.0.1 - - [05/Dec/2019 21:15:26] \"\u001b[37mGET / HTTP/1.1\u001b[0m\" 200 -\n",
      "127.0.0.1 - - [05/Dec/2019 21:15:31] \"\u001b[37mPOST /alethic/api/v1.0/ia HTTP/1.1\u001b[0m\" 200 -\n",
      "127.0.0.1 - - [05/Dec/2019 21:17:30] \"\u001b[37mGET / HTTP/1.1\u001b[0m\" 200 -\n",
      "127.0.0.1 - - [05/Dec/2019 21:18:02] \"\u001b[37mPOST /alethic/api/v1.0/ia HTTP/1.1\u001b[0m\" 200 -\n",
      "127.0.0.1 - - [05/Dec/2019 21:18:23] \"\u001b[37mGET / HTTP/1.1\u001b[0m\" 200 -\n",
      "127.0.0.1 - - [05/Dec/2019 21:18:36] \"\u001b[37mPOST /alethic/api/v1.0/ia HTTP/1.1\u001b[0m\" 200 -\n",
      "127.0.0.1 - - [05/Dec/2019 21:19:24] \"\u001b[37mPOST /alethic/api/v1.0/ia HTTP/1.1\u001b[0m\" 200 -\n",
      "127.0.0.1 - - [05/Dec/2019 21:19:28] \"\u001b[37mGET / HTTP/1.1\u001b[0m\" 200 -\n",
      "127.0.0.1 - - [05/Dec/2019 21:19:32] \"\u001b[37mPOST /alethic/api/v1.0/ia HTTP/1.1\u001b[0m\" 200 -\n"
     ]
    }
   ],
   "source": [
    "if __name__ == '__main__':\n",
    "    port = int(os.environ.get(\"PORT\", 5000))\n",
    "    app.run(host='0.0.0.0',port=port)"
   ]
  },
  {
   "cell_type": "code",
   "execution_count": null,
   "metadata": {},
   "outputs": [],
   "source": []
  }
 ],
 "metadata": {
  "kernelspec": {
   "display_name": "Python 3",
   "language": "python",
   "name": "python3"
  },
  "language_info": {
   "codemirror_mode": {
    "name": "ipython",
    "version": 3
   },
   "file_extension": ".py",
   "mimetype": "text/x-python",
   "name": "python",
   "nbconvert_exporter": "python",
   "pygments_lexer": "ipython3",
   "version": "3.7.4"
  }
 },
 "nbformat": 4,
 "nbformat_minor": 2
}
